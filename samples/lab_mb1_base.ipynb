{
 "cells": [
  {
   "cell_type": "markdown",
   "metadata": {},
   "source": [
    "## MB1_base"
   ]
  },
  {
   "cell_type": "code",
   "execution_count": 1,
   "metadata": {
    "collapsed": true
   },
   "outputs": [],
   "source": [
    "from pathlib import Path\n",
    "root = Path('/data2/tmps/object-masking')  # Project Home\n",
    "\n",
    "import sys\n",
    "sys.path.insert(0, str(root))\n",
    "sys.path.insert(0, str(root/'modules'))"
   ]
  },
  {
   "cell_type": "code",
   "execution_count": 2,
   "metadata": {
    "collapsed": true
   },
   "outputs": [],
   "source": [
    "import os\n",
    "import numpy as np\n",
    "import pandas as pd\n",
    "from pathlib import Path\n",
    "from pyhej.utils import set_dir, set_parent\n",
    "from pyhej.image.dicom import read_dicom\n",
    "from pyhej.image.pillow import array_to_img"
   ]
  },
  {
   "cell_type": "code",
   "execution_count": 3,
   "metadata": {
    "collapsed": true
   },
   "outputs": [],
   "source": [
    "data_dir = Path('/data2/datasets/slyx/mb1_base')\n",
    "save_dir = root/'tmps/dataset_mb1/hej_dataset_mb1'\n",
    "\n",
    "set_dir(str(save_dir), rm=True)\n",
    "\n",
    "data = []\n",
    "data.extend([('may', str(item)) for item in sorted(data_dir.joinpath('may').glob('**/*.dcm'))])\n",
    "data.extend([('jun', str(item)) for item in sorted(data_dir.joinpath('jun').glob('**/*.dcm'))])"
   ]
  },
  {
   "cell_type": "code",
   "execution_count": 4,
   "metadata": {},
   "outputs": [
    {
     "data": {
      "text/plain": [
       "524"
      ]
     },
     "execution_count": 4,
     "metadata": {},
     "output_type": "execute_result"
    }
   ],
   "source": [
    "mins, maxs = [], []\n",
    "for i, (tag, path) in enumerate(data, 1):\n",
    "    img_array = read_dicom(path)[0]\n",
    "    mins.append(np.min(img_array))\n",
    "    maxs.append(np.max(img_array))\n",
    "    img = array_to_img(img_array - np.min(img_array), scale=True)\n",
    "    filename = str(save_dir/'{:06d}{}.jpg'.format(i, tag))\n",
    "    img.save(filename)\n",
    "\n",
    "len(list(save_dir.iterdir()))"
   ]
  },
  {
   "cell_type": "code",
   "execution_count": 5,
   "metadata": {},
   "outputs": [
    {
     "data": {
      "image/png": "[encoded data removed]",
      "text/plain": [
       "<matplotlib.figure.Figure at 0x7f8bc68b7860>"
      ]
     },
     "metadata": {},
     "output_type": "display_data"
    }
   ],
   "source": [
    "from matplotlib import pyplot as plt\n",
    "plt.subplot(121), plt.hist(mins)\n",
    "plt.subplot(122), plt.hist(maxs)\n",
    "plt.show()"
   ]
  }
 ],
 "metadata": {
  "kernelspec": {
   "display_name": "Python 3",
   "language": "python",
   "name": "python3"
  },
  "language_info": {
   "codemirror_mode": {
    "name": "ipython",
    "version": 3
   },
   "file_extension": ".py",
   "mimetype": "text/x-python",
   "name": "python",
   "nbconvert_exporter": "python",
   "pygments_lexer": "ipython3",
   "version": "3.5.3"
  }
 },
 "nbformat": 4,
 "nbformat_minor": 2
}
